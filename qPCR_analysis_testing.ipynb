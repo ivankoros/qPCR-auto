{
 "cells": [
  {
   "cell_type": "code",
   "execution_count": null,
   "metadata": {},
   "outputs": [],
   "source": [
    "import numpy as np\n",
    "import pandas as pd\n",
    "from dotenv import load_dotenv\n",
    "import os\n",
    "import unittest\n",
    "from IPython.display import display"
   ]
  },
  {
   "cell_type": "code",
   "execution_count": null,
   "metadata": {},
   "outputs": [],
   "source": [
    "# Load environmental variables\n",
    "load_dotenv(override=True)\n",
    "\n",
    "# Assign raw data and plate diagram files from environment\n",
    "RAW_SAMPLE_1 = os.getenv(\"RAW_SAMPLE_1\")\n",
    "RAW_SAMPLE_1_DIAGRAM = os.getenv(\"RAW_SAMPLE_1_DIAGRAM\")\n",
    "\n",
    "# Read in the raw data and plate diagram as pandas dataframes\n",
    "df_data = pd.read_excel(RAW_SAMPLE_1, sheet_name=0)\n",
    "df_diagram = pd.read_excel(RAW_SAMPLE_1_DIAGRAM)\n",
    "\n",
    "\n",
    "# Test the raw data and plate diagram to make sure they are the correct size, should be 96 rows by 16 columns and 8 rows by 13 columns respectively always\n",
    "class TestStringMethods(unittest.TestCase):\n",
    "\n",
    "    def test_raw_data(self):\n",
    "        self.assertEqual(df_data.shape, (96, 16), f\"Raw data is {df_data.shape[0]} rows by {df_data.shape[1]} columns but should be 96 rows by 3 columns\")\n",
    "\n",
    "    def test_plate_diagram(self):\n",
    "        self.assertEqual(df_diagram.shape, (8, 13), f\"Plate diagram is {df_diagram.shape[0]} rows by {df_diagram.shape[1]} columns but should be 8 rows by 13 columns\")\n",
    "\n",
    "\n",
    "unittest.main(argv=['first-arg-is-ignored'], exit=False)\n",
    "\n",
    "display(df_data.head())\n",
    "display(df_diagram.head())"
   ]
  },
  {
   "cell_type": "code",
   "execution_count": null,
   "metadata": {},
   "outputs": [],
   "source": [
    "# Set the first column as the index, remove whitespace and add a space to the \"dup\" values\n",
    "df_diagram = df_diagram.set_index(df_diagram.columns[0])\n",
    "df_diagram = df_diagram.replace('\\s+', '', regex=True)\n",
    "df_diagram = df_diagram.replace('dup', ' dup', regex=True)\n",
    "\n",
    "# Create an empty sample map dictionary\n",
    "sample_map = {}\n",
    "\n",
    "for row in df_diagram.index:\n",
    "    for col in df_diagram.columns[1:]:\n",
    "        well_id = f\"{row}{int(col):02d}\"\n",
    "        sample_name = df_diagram.loc[row, col]\n",
    "        sample_map[well_id] = sample_name\n",
    "\n",
    "    \"\"\"Use rows and columns (besides the first one) to relate the well ID to the sample name.\n",
    "\n",
    "    For example, the first row name is A and the first column name is 1.\n",
    "    The well ID will be A01 and the sample name will the sample in that row/column.\n",
    "\n",
    "    \"\"\"\n",
    "\n",
    "# Read in the raw qPCR data and map the well IDs to sample names using the dictionary\n",
    "df_data[\"Sample\"] = df_data[\"Well\"].map(sample_map)\n",
    "\n",
    "# Show first 5 rows\n",
    "df_data.head()"
   ]
  },
  {
   "cell_type": "code",
   "execution_count": null,
   "metadata": {},
   "outputs": [],
   "source": [
    "# Select relevant columns (Well, Cq, and Sample)\n",
    "df = df_data[['Well', 'Cq', 'Sample']].copy()\n",
    "\n",
    "# Create mtDNA1 and mtDNA2 columns\n",
    "df['mtDNA1'] = \"mtDNA1\"\n",
    "df['mtDNA2'] = \"mtDNA2\"\n",
    "\n",
    "# Arrange columns like this: \"Well\", \"Sample\", \"mtDNA1\", \"mtDNA2\", \"Cq\"\n",
    "df = df.loc[:,[\"Well\", \"Sample\", \"mtDNA1\", \"mtDNA2\", \"Cq\"]]\n",
    "\n",
    "# Drop rows with NA values\n",
    "df = df.dropna()\n",
    "\n",
    "# Show first 5 rows\n",
    "df.head()"
   ]
  },
  {
   "cell_type": "code",
   "execution_count": null,
   "metadata": {},
   "outputs": [],
   "source": [
    "# set mtDNA1 and mtDNA2 values to Cq values by treating mtDNA1 as the Cq for the first sample and mtDNA2 as the Cq for the duplicate sample if it exists as \"Sample dup\"\n",
    "\n",
    "# Note, exactly \"Sample dup\" is used to avoid matching \"Sample dup **\" or any additions to the name\n",
    "\n",
    "for row, index in df.iterrows():\n",
    "    df.loc[row, 'mtDNA1'] = df.loc[row, 'Cq']\n",
    "    if df.loc[row, 'Sample'] + ' dup' in df['Sample'].values:\n",
    "        df.loc[row, 'mtDNA2'] = df.loc[df['Sample'] == df.loc[row, 'Sample'] + ' dup', 'Cq'].values[0]\n",
    "    else:\n",
    "        df.loc[row, 'mtDNA2'] = np.NAN\n",
    "\n",
    "\"\"\" Assign mtDNA1 and mtNDA2 value\n",
    "\n",
    "    For each row, set the mtDNA1 value to the Cq value and set the mtDNA2 value to the Cq value of the duplicate sample if it exists.\n",
    "\n",
    "    For example, if the sample name is \"D12\", set the mtDNA1 value to its Cq value and set the mtDNA2 value to the Cq value of \"D12 Dup\" (if it exists).\n",
    "\n",
    "    If the duplicate (\"D12 Dup\") does not exist, set the mtDNA2 value to NaN, which is then dropped later.\n",
    "\"\"\"\n",
    "\n",
    "\n",
    "# Drop the Cq column and drop NA values\n",
    "df = df.drop(columns=['Cq'])\n",
    "df = df.dropna()\n",
    "\n",
    "# calculate standard deviation of each row\n",
    "df['St.Dev'] = df[['mtDNA1', 'mtDNA2']].std(axis=1)\n",
    "\n",
    "# Show first 5 rows\n",
    "df.head()"
   ]
  },
  {
   "cell_type": "code",
   "execution_count": null,
   "metadata": {},
   "outputs": [],
   "source": [
    "# Throw warnings for standard deviations greater than .22\n",
    "\n",
    "for row, index in df.iterrows():\n",
    "    if df.loc[row, 'St.Dev'] > .22:\n",
    "        print(f\"\\n Warning: Standard deviation for {df.loc[row, 'Sample']} is {round(df.loc[row, 'St.Dev'],ndigits=3)} \"\n",
    "              f\"(Sample 1: {round(df.loc[row, 'mtDNA1'],ndigits=3)} vs Sample 2: {round(df.loc[row, 'mtDNA2'], ndigits=2)}) \\n\")"
   ]
  },
  {
   "cell_type": "code",
   "execution_count": null,
   "metadata": {},
   "outputs": [],
   "source": [
    "#Drop index, sort by standard deviation (descending), and download the file\n",
    "df = df.sort_values(by=['St.Dev'], ascending=False)\n",
    "df = df.reset_index(drop=True)\n",
    "\n",
    "df.to_excel(\"50_gcr_random_name_test_output.xlsx\",\n",
    "          index=False)"
   ]
  }
 ],
 "metadata": {
  "kernelspec": {
   "display_name": "Python 3",
   "language": "python",
   "name": "python3"
  },
  "language_info": {
   "codemirror_mode": {
    "name": "ipython",
    "version": 2
   },
   "file_extension": ".py",
   "mimetype": "text/x-python",
   "name": "python",
   "nbconvert_exporter": "python",
   "pygments_lexer": "ipython2",
   "version": "2.7.6"
  }
 },
 "nbformat": 4,
 "nbformat_minor": 0
}
